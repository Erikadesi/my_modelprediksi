{
 "cells": [
  {
   "cell_type": "markdown",
   "id": "0dcdfd7d",
   "metadata": {},
   "source": [
    "<div style=\"color:#6CA6C1; font-size:16px; font-weight:bold; text-align:center;\">\n",
    "Import Library\n",
    "</div>"
   ]
  },
  {
   "cell_type": "code",
   "execution_count": 1,
   "id": "5735d299",
   "metadata": {},
   "outputs": [],
   "source": [
    "import numpy as np\n",
    "import pandas as pd\n",
    "import matplotlib.pyplot as plt\n",
    "import plotly.graph_objects as go\n",
    "import statsmodels.api as sm"
   ]
  },
  {
   "cell_type": "markdown",
   "id": "119f438a",
   "metadata": {},
   "source": [
    "<div style=\"color:#6CA6C1; font-size:16px; font-weight:bold; text-align:center;\">\n",
    "Baca Dataset CSV\n",
    "</div>"
   ]
  },
  {
   "cell_type": "code",
   "execution_count": 2,
   "id": "a64b6956",
   "metadata": {},
   "outputs": [
    {
     "data": {
      "text/html": [
       "<div>\n",
       "<style scoped>\n",
       "    .dataframe tbody tr th:only-of-type {\n",
       "        vertical-align: middle;\n",
       "    }\n",
       "\n",
       "    .dataframe tbody tr th {\n",
       "        vertical-align: top;\n",
       "    }\n",
       "\n",
       "    .dataframe thead th {\n",
       "        text-align: right;\n",
       "    }\n",
       "</style>\n",
       "<table border=\"1\" class=\"dataframe\">\n",
       "  <thead>\n",
       "    <tr style=\"text-align: right;\">\n",
       "      <th></th>\n",
       "      <th>nama</th>\n",
       "      <th>jan</th>\n",
       "      <th>feb</th>\n",
       "      <th>mar</th>\n",
       "      <th>apr</th>\n",
       "    </tr>\n",
       "  </thead>\n",
       "  <tbody>\n",
       "    <tr>\n",
       "      <th>0</th>\n",
       "      <td>Andi</td>\n",
       "      <td>100</td>\n",
       "      <td>135</td>\n",
       "      <td>85</td>\n",
       "      <td>75</td>\n",
       "    </tr>\n",
       "    <tr>\n",
       "      <th>1</th>\n",
       "      <td>Budi</td>\n",
       "      <td>200</td>\n",
       "      <td>240</td>\n",
       "      <td>185</td>\n",
       "      <td>160</td>\n",
       "    </tr>\n",
       "    <tr>\n",
       "      <th>2</th>\n",
       "      <td>Chandra</td>\n",
       "      <td>300</td>\n",
       "      <td>315</td>\n",
       "      <td>285</td>\n",
       "      <td>190</td>\n",
       "    </tr>\n",
       "    <tr>\n",
       "      <th>3</th>\n",
       "      <td>Dudi</td>\n",
       "      <td>250</td>\n",
       "      <td>270</td>\n",
       "      <td>230</td>\n",
       "      <td>200</td>\n",
       "    </tr>\n",
       "    <tr>\n",
       "      <th>4</th>\n",
       "      <td>Eko</td>\n",
       "      <td>150</td>\n",
       "      <td>195</td>\n",
       "      <td>110</td>\n",
       "      <td>100</td>\n",
       "    </tr>\n",
       "  </tbody>\n",
       "</table>\n",
       "</div>"
      ],
      "text/plain": [
       "      nama  jan  feb  mar  apr\n",
       "0     Andi  100  135   85   75\n",
       "1     Budi  200  240  185  160\n",
       "2  Chandra  300  315  285  190\n",
       "3     Dudi  250  270  230  200\n",
       "4      Eko  150  195  110  100"
      ]
     },
     "execution_count": 2,
     "metadata": {},
     "output_type": "execute_result"
    }
   ],
   "source": [
    "df = pd.read_csv(\"penjualan.csv\")\n",
    "\n",
    "df.head()"
   ]
  },
  {
   "cell_type": "markdown",
   "id": "c859c492",
   "metadata": {},
   "source": [
    "<div style=\"color:#6CA6C1; font-size:16px; font-weight:bold; text-align:center;\">\n",
    "Regresi Sederhana Penjualan\n",
    "</div>"
   ]
  },
  {
   "cell_type": "code",
   "execution_count": 3,
   "id": "0b18b273",
   "metadata": {},
   "outputs": [
    {
     "name": "stdout",
     "output_type": "stream",
     "text": [
      "alpha = -56.03855245024894\n",
      "beta = 0.8648191600282885\n"
     ]
    },
    {
     "data": {
      "image/png": "[encoded data removed]",
      "text/plain": [
       "<Figure size 1000x500 with 1 Axes>"
      ]
     },
     "metadata": {},
     "output_type": "display_data"
    }
   ],
   "source": [
    "#Variabel\n",
    "x = df[\"feb\"]\n",
    "y = df[\"apr\"]\n",
    "\n",
    "#Hitung mean x dan y\n",
    "xmean = np.mean(x)\n",
    "ymean = np.mean(y)\n",
    "\n",
    "#Hitung covariance dan variance\n",
    "df[\"xycov\"] = (df[\"feb\"] - xmean) * (df[\"apr\"] - ymean)\n",
    "df[\"xvar\"] = (df[\"feb\"] - xmean)**2\n",
    "\n",
    "#Hitung beta and alpha\n",
    "beta = df[\"xycov\"].sum() / df[\"xvar\"].sum()\n",
    "alpha = ymean - (beta*xmean)\n",
    "print(f\"alpha = {alpha}\")\n",
    "print(f\"beta = {beta}\")\n",
    "\n",
    "#Fungsi prediksi\n",
    "ypred = alpha + beta * x     \n",
    "\n",
    "#Plot regresi untuk data aktual\n",
    "plt.figure(figsize=(10, 5))\n",
    "plt.plot(x, ypred, label=\"Prediksi\")\n",
    "plt.plot(x, y, \"ro\", label=\"Aktual\")\n",
    "plt.title(\"Regresi Sederhana (Harga vs Jual)\")\n",
    "plt.xlabel(\"Harga (feb)\")\n",
    "plt.ylabel(\"Jual (apr)\")\n",
    "\n",
    "plt.show()"
   ]
  },
  {
   "cell_type": "markdown",
   "id": "a446b082",
   "metadata": {},
   "source": [
    "<div style=\"color:#6CA6C1; font-size:16px; font-weight:bold; text-align:center;\">\n",
    "Regresi Berganda dan Plot 3D\n",
    "</div>"
   ]
  },
  {
   "cell_type": "code",
   "execution_count": 4,
   "id": "970ce713",
   "metadata": {},
   "outputs": [
    {
     "data": {
      "application/vnd.plotly.v1+json": {
       "config": {
        "plotlyServerURL": "https://plot.ly"
       },
       "data": [
        {
         "marker": {
          "color": "blue",
          "opacity": 0.8,
          "size": 5
         },
         "mode": "markers",
         "name": "Data",
         "type": "scatter3d",
         "x": {
          "bdata": "hwDwADsBDgHDAIIArwCbAHYB3AA=",
          "dtype": "i2"
         },
         "y": {
          "bdata": "VQC5AB0B5gBuAEsAbgBkACwBrwA=",
          "dtype": "i2"
         },
         "z": {
          "bdata": "SwCgAL4AyABkAC0ARgBVAA4BmwA=",
          "dtype": "i2"
         }
        },
        {
         "colorscale": [
          [
           0,
           "rgb(252,251,253)"
          ],
          [
           0.125,
           "rgb(239,237,245)"
          ],
          [
           0.25,
           "rgb(218,218,235)"
          ],
          [
           0.375,
           "rgb(188,189,220)"
          ],
          [
           0.5,
           "rgb(158,154,200)"
          ],
          [
           0.625,
           "rgb(128,125,186)"
          ],
          [
           0.75,
           "rgb(106,81,163)"
          ],
          [
           0.875,
           "rgb(84,39,143)"
          ],
          [
           1,
           "rgb(63,0,125)"
          ]
         ],
         "name": "Garis Regresi",
         "opacity": 0.5,
         "type": "surface",
         "x": {
          "bdata": "AAAAAAAA8D9yHMdxHMcZQHIcx3EcxydAVlVVVVVVMUByHMdxHMc2QI7jOI7jODxAVlVVVVXVQEDkOI7jOI5DQHIcx3EcR0ZAAAAAAAAASUAAAAAAAADwP3Icx3EcxxlAchzHcRzHJ0BWVVVVVVUxQHIcx3EcxzZAjuM4juM4PEBWVVVVVdVAQOQ4juM4jkNAchzHcRxHRkAAAAAAAABJQAAAAAAAAPA/chzHcRzHGUByHMdxHMcnQFZVVVVVVTFAchzHcRzHNkCO4ziO4zg8QFZVVVVV1UBA5DiO4ziOQ0ByHMdxHEdGQAAAAAAAAElAAAAAAAAA8D9yHMdxHMcZQHIcx3EcxydAVlVVVVVVMUByHMdxHMc2QI7jOI7jODxAVlVVVVXVQEDkOI7jOI5DQHIcx3EcR0ZAAAAAAAAASUAAAAAAAADwP3Icx3EcxxlAchzHcRzHJ0BWVVVVVVUxQHIcx3EcxzZAjuM4juM4PEBWVVVVVdVAQOQ4juM4jkNAchzHcRxHRkAAAAAAAABJQAAAAAAAAPA/chzHcRzHGUByHMdxHMcnQFZVVVVVVTFAchzHcRzHNkCO4ziO4zg8QFZVVVVV1UBA5DiO4ziOQ0ByHMdxHEdGQAAAAAAAAElAAAAAAAAA8D9yHMdxHMcZQHIcx3EcxydAVlVVVVVVMUByHMdxHMc2QI7jOI7jODxAVlVVVVXVQEDkOI7jOI5DQHIcx3EcR0ZAAAAAAAAASUAAAAAAAADwP3Icx3EcxxlAchzHcRzHJ0BWVVVVVVUxQHIcx3EcxzZAjuM4juM4PEBWVVVVVdVAQOQ4juM4jkNAchzHcRxHRkAAAAAAAABJQAAAAAAAAPA/chzHcRzHGUByHMdxHMcnQFZVVVVVVTFAchzHcRzHNkCO4ziO4zg8QFZVVVVV1UBA5DiO4ziOQ0ByHMdxHEdGQAAAAAAAAElAAAAAAAAA8D9yHMdxHMcZQHIcx3EcxydAVlVVVVVVMUByHMdxHMc2QI7jOI7jODxAVlVVVVXVQEDkOI7jOI5DQHIcx3EcR0ZAAAAAAAAASUA=",
          "dtype": "f8",
          "shape": "10, 10"
         },
         "y": {
          "bdata": "AAAAAAAACEAAAAAAAAAIQAAAAAAAAAhAAAAAAAAACEAAAAAAAAAIQAAAAAAAAAhAAAAAAAAACEAAAAAAAAAIQAAAAAAAAAhAAAAAAAAACECqqqqqqqoiQKqqqqqqqiJAqqqqqqqqIkCqqqqqqqoiQKqqqqqqqiJAqqqqqqqqIkCqqqqqqqoiQKqqqqqqqiJAqqqqqqqqIkCqqqqqqqoiQFVVVVVVVS9AVVVVVVVVL0BVVVVVVVUvQFVVVVVVVS9AVVVVVVVVL0BVVVVVVVUvQFVVVVVVVS9AVVVVVVVVL0BVVVVVVVUvQFVVVVVVVS9AAAAAAAAANkAAAAAAAAA2QAAAAAAAADZAAAAAAAAANkAAAAAAAAA2QAAAAAAAADZAAAAAAAAANkAAAAAAAAA2QAAAAAAAADZAAAAAAAAANkBVVVVVVVU8QFVVVVVVVTxAVVVVVVVVPEBVVVVVVVU8QFVVVVVVVTxAVVVVVVVVPEBVVVVVVVU8QFVVVVVVVTxAVVVVVVVVPEBVVVVVVVU8QFVVVVVVVUFAVVVVVVVVQUBVVVVVVVVBQFVVVVVVVUFAVVVVVVVVQUBVVVVVVVVBQFVVVVVVVUFAVVVVVVVVQUBVVVVVVVVBQFVVVVVVVUFAAAAAAACAREAAAAAAAIBEQAAAAAAAgERAAAAAAACAREAAAAAAAIBEQAAAAAAAgERAAAAAAACAREAAAAAAAIBEQAAAAAAAgERAAAAAAACARECqqqqqqqpHQKqqqqqqqkdAqqqqqqqqR0CqqqqqqqpHQKqqqqqqqkdAqqqqqqqqR0CqqqqqqqpHQKqqqqqqqkdAqqqqqqqqR0CqqqqqqqpHQFVVVVVV1UpAVVVVVVXVSkBVVVVVVdVKQFVVVVVV1UpAVVVVVVXVSkBVVVVVVdVKQFVVVVVV1UpAVVVVVVXVSkBVVVVVVdVKQFVVVVVV1UpAAAAAAAAATkAAAAAAAABOQAAAAAAAAE5AAAAAAAAATkAAAAAAAABOQAAAAAAAAE5AAAAAAAAATkAAAAAAAABOQAAAAAAAAE5AAAAAAAAATkA=",
          "dtype": "f8",
          "shape": "10, 10"
         },
         "z": {
          "bdata": "XeIVMTV5RMAUerv9fMNCwMoRYcrEDUHAAVMNLhmwPsBugljHqEQ7wNuxo2A42TfAR+Hu+cdtNMC0EDqTVwIxwD+AClnOLSvAGd+gi+1WJMCiEShkgLxDwFmpzTDIBkLAD0Fz/Q9RQMCKsTGUrzY9wPfgfC0/yznAZBDIxs5fNsDQPxNgXvQywHrevPLbES/AUj1TJfs6KMAsnOlXGmQhwOdAOpfL/0LAntjfYxNKQcCn4Aphtig/wBMQVvpFvTvAgD+hk9VROMDtbuwsZeY0wFmeN8b0ejHAjJsFvwgfLMBk+pvxJ0glwHyyZEiO4hzAK3BMyhZDQsDiB/KWXo1AwDA/L8dMrz3AnG56YNxDOsAKnsX5a9g2wHbNEJP7bDPA4vxbLIsBMMCfWE6LNSwpwHe35L1UVSLAoiz24Of8FsBwn179YYZBwE5uCJRToT/Aup1TLeM1PMAmzZ7Gcso4wJP86V8CXzXAACw1+ZHzMcDYtgAlQxAtwLIVl1diOSbAE+laFAPFHsDHpod5QRcRwLTOcDCtyUDA18ws+uknPsBD/HeTebw6wK8rwywJUTfAHFsOxpjlM8CJillfKHowwOpzSfFvHSrAxNLfI49GI8A4Y+ysXN8YwNhBMiQ2YwbA+f2CY/gMQMBgK1FggK48wMxanPkPQznAOIrnkp/XNcCluTIsL2wywCTS+4p9AS7A/DCSvZwqJ8DWjyjwu1MgwFzdfUW2+RLAQGyqqtIv9b98Wioth6A+wOqJdcYWNTvAVrnAX6bJN8DC6Av5NV40wC4YV5LF8jDAN49EV6oOK8AP7tqJyTckwNKZ4njRwRrABK8evB8oCsBAWX2YNzbDPwS5TpMdJz3AcuiZLK27OcDeF+XFPFA2wEpHMF/M5DLAb+328LfyLsBJTI0j1xsowCGrI1b2RCHA9hN0ESvcFMCYRoPapbn8v5jCyZBg/fk/jhdz+bOtO8D8Rr6SQ0I4wGh2CSzT1jTA1KVUxWJrMcCCqj+95P8rwFwJ1u8DKSXAaNDYREakHMA4HAtUCe0NwMC8JPMwjNS/AO1BF/3JCEA=",
          "dtype": "f8",
          "shape": "10, 10"
         }
        }
       ],
       "layout": {
        "scene": {
         "xaxis": {
          "title": {
           "text": "x1"
          }
         },
         "yaxis": {
          "title": {
           "text": "x2"
          }
         },
         "zaxis": {
          "title": {
           "text": "y"
          }
         }
        },
        "showlegend": true,
        "template": {
         "data": {
          "bar": [
           {
            "error_x": {
             "color": "#2a3f5f"
            },
            "error_y": {
             "color": "#2a3f5f"
            },
            "marker": {
             "line": {
              "color": "#E5ECF6",
              "width": 0.5
             },
             "pattern": {
              "fillmode": "overlay",
              "size": 10,
              "solidity": 0.2
             }
            },
            "type": "bar"
           }
          ],
          "barpolar": [
           {
            "marker": {
             "line": {
              "color": "#E5ECF6",
              "width": 0.5
             },
             "pattern": {
              "fillmode": "overlay",
              "size": 10,
              "solidity": 0.2
             }
            },
            "type": "barpolar"
           }
          ],
          "carpet": [
           {
            "aaxis": {
             "endlinecolor": "#2a3f5f",
             "gridcolor": "white",
             "linecolor": "white",
             "minorgridcolor": "white",
             "startlinecolor": "#2a3f5f"
            },
            "baxis": {
             "endlinecolor": "#2a3f5f",
             "gridcolor": "white",
             "linecolor": "white",
             "minorgridcolor": "white",
             "startlinecolor": "#2a3f5f"
            },
            "type": "carpet"
           }
          ],
          "choropleth": [
           {
            "colorbar": {
             "outlinewidth": 0,
             "ticks": ""
            },
            "type": "choropleth"
           }
          ],
          "contour": [
           {
            "colorbar": {
             "outlinewidth": 0,
             "ticks": ""
            },
            "colorscale": [
             [
              0,
              "#0d0887"
             ],
             [
              0.1111111111111111,
              "#46039f"
             ],
             [
              0.2222222222222222,
              "#7201a8"
             ],
             [
              0.3333333333333333,
              "#9c179e"
             ],
             [
              0.4444444444444444,
              "#bd3786"
             ],
             [
              0.5555555555555556,
              "#d8576b"
             ],
             [
              0.6666666666666666,
              "#ed7953"
             ],
             [
              0.7777777777777778,
              "#fb9f3a"
             ],
             [
              0.8888888888888888,
              "#fdca26"
             ],
             [
              1,
              "#f0f921"
             ]
            ],
            "type": "contour"
           }
          ],
          "contourcarpet": [
           {
            "colorbar": {
             "outlinewidth": 0,
             "ticks": ""
            },
            "type": "contourcarpet"
           }
          ],
          "heatmap": [
           {
            "colorbar": {
             "outlinewidth": 0,
             "ticks": ""
            },
            "colorscale": [
             [
              0,
              "#0d0887"
             ],
             [
              0.1111111111111111,
              "#46039f"
             ],
             [
              0.2222222222222222,
              "#7201a8"
             ],
             [
              0.3333333333333333,
              "#9c179e"
             ],
             [
              0.4444444444444444,
              "#bd3786"
             ],
             [
              0.5555555555555556,
              "#d8576b"
             ],
             [
              0.6666666666666666,
              "#ed7953"
             ],
             [
              0.7777777777777778,
              "#fb9f3a"
             ],
             [
              0.8888888888888888,
              "#fdca26"
             ],
             [
              1,
              "#f0f921"
             ]
            ],
            "type": "heatmap"
           }
          ],
          "histogram": [
           {
            "marker": {
             "pattern": {
              "fillmode": "overlay",
              "size": 10,
              "solidity": 0.2
             }
            },
            "type": "histogram"
           }
          ],
          "histogram2d": [
           {
            "colorbar": {
             "outlinewidth": 0,
             "ticks": ""
            },
            "colorscale": [
             [
              0,
              "#0d0887"
             ],
             [
              0.1111111111111111,
              "#46039f"
             ],
             [
              0.2222222222222222,
              "#7201a8"
             ],
             [
              0.3333333333333333,
              "#9c179e"
             ],
             [
              0.4444444444444444,
              "#bd3786"
             ],
             [
              0.5555555555555556,
              "#d8576b"
             ],
             [
              0.6666666666666666,
              "#ed7953"
             ],
             [
              0.7777777777777778,
              "#fb9f3a"
             ],
             [
              0.8888888888888888,
              "#fdca26"
             ],
             [
              1,
              "#f0f921"
             ]
            ],
            "type": "histogram2d"
           }
          ],
          "histogram2dcontour": [
           {
            "colorbar": {
             "outlinewidth": 0,
             "ticks": ""
            },
            "colorscale": [
             [
              0,
              "#0d0887"
             ],
             [
              0.1111111111111111,
              "#46039f"
             ],
             [
              0.2222222222222222,
              "#7201a8"
             ],
             [
              0.3333333333333333,
              "#9c179e"
             ],
             [
              0.4444444444444444,
              "#bd3786"
             ],
             [
              0.5555555555555556,
              "#d8576b"
             ],
             [
              0.6666666666666666,
              "#ed7953"
             ],
             [
              0.7777777777777778,
              "#fb9f3a"
             ],
             [
              0.8888888888888888,
              "#fdca26"
             ],
             [
              1,
              "#f0f921"
             ]
            ],
            "type": "histogram2dcontour"
           }
          ],
          "mesh3d": [
           {
            "colorbar": {
             "outlinewidth": 0,
             "ticks": ""
            },
            "type": "mesh3d"
           }
          ],
          "parcoords": [
           {
            "line": {
             "colorbar": {
              "outlinewidth": 0,
              "ticks": ""
             }
            },
            "type": "parcoords"
           }
          ],
          "pie": [
           {
            "automargin": true,
            "type": "pie"
           }
          ],
          "scatter": [
           {
            "fillpattern": {
             "fillmode": "overlay",
             "size": 10,
             "solidity": 0.2
            },
            "type": "scatter"
           }
          ],
          "scatter3d": [
           {
            "line": {
             "colorbar": {
              "outlinewidth": 0,
              "ticks": ""
             }
            },
            "marker": {
             "colorbar": {
              "outlinewidth": 0,
              "ticks": ""
             }
            },
            "type": "scatter3d"
           }
          ],
          "scattercarpet": [
           {
            "marker": {
             "colorbar": {
              "outlinewidth": 0,
              "ticks": ""
             }
            },
            "type": "scattercarpet"
           }
          ],
          "scattergeo": [
           {
            "marker": {
             "colorbar": {
              "outlinewidth": 0,
              "ticks": ""
             }
            },
            "type": "scattergeo"
           }
          ],
          "scattergl": [
           {
            "marker": {
             "colorbar": {
              "outlinewidth": 0,
              "ticks": ""
             }
            },
            "type": "scattergl"
           }
          ],
          "scattermap": [
           {
            "marker": {
             "colorbar": {
              "outlinewidth": 0,
              "ticks": ""
             }
            },
            "type": "scattermap"
           }
          ],
          "scattermapbox": [
           {
            "marker": {
             "colorbar": {
              "outlinewidth": 0,
              "ticks": ""
             }
            },
            "type": "scattermapbox"
           }
          ],
          "scatterpolar": [
           {
            "marker": {
             "colorbar": {
              "outlinewidth": 0,
              "ticks": ""
             }
            },
            "type": "scatterpolar"
           }
          ],
          "scatterpolargl": [
           {
            "marker": {
             "colorbar": {
              "outlinewidth": 0,
              "ticks": ""
             }
            },
            "type": "scatterpolargl"
           }
          ],
          "scatterternary": [
           {
            "marker": {
             "colorbar": {
              "outlinewidth": 0,
              "ticks": ""
             }
            },
            "type": "scatterternary"
           }
          ],
          "surface": [
           {
            "colorbar": {
             "outlinewidth": 0,
             "ticks": ""
            },
            "colorscale": [
             [
              0,
              "#0d0887"
             ],
             [
              0.1111111111111111,
              "#46039f"
             ],
             [
              0.2222222222222222,
              "#7201a8"
             ],
             [
              0.3333333333333333,
              "#9c179e"
             ],
             [
              0.4444444444444444,
              "#bd3786"
             ],
             [
              0.5555555555555556,
              "#d8576b"
             ],
             [
              0.6666666666666666,
              "#ed7953"
             ],
             [
              0.7777777777777778,
              "#fb9f3a"
             ],
             [
              0.8888888888888888,
              "#fdca26"
             ],
             [
              1,
              "#f0f921"
             ]
            ],
            "type": "surface"
           }
          ],
          "table": [
           {
            "cells": {
             "fill": {
              "color": "#EBF0F8"
             },
             "line": {
              "color": "white"
             }
            },
            "header": {
             "fill": {
              "color": "#C8D4E3"
             },
             "line": {
              "color": "white"
             }
            },
            "type": "table"
           }
          ]
         },
         "layout": {
          "annotationdefaults": {
           "arrowcolor": "#2a3f5f",
           "arrowhead": 0,
           "arrowwidth": 1
          },
          "autotypenumbers": "strict",
          "coloraxis": {
           "colorbar": {
            "outlinewidth": 0,
            "ticks": ""
           }
          },
          "colorscale": {
           "diverging": [
            [
             0,
             "#8e0152"
            ],
            [
             0.1,
             "#c51b7d"
            ],
            [
             0.2,
             "#de77ae"
            ],
            [
             0.3,
             "#f1b6da"
            ],
            [
             0.4,
             "#fde0ef"
            ],
            [
             0.5,
             "#f7f7f7"
            ],
            [
             0.6,
             "#e6f5d0"
            ],
            [
             0.7,
             "#b8e186"
            ],
            [
             0.8,
             "#7fbc41"
            ],
            [
             0.9,
             "#4d9221"
            ],
            [
             1,
             "#276419"
            ]
           ],
           "sequential": [
            [
             0,
             "#0d0887"
            ],
            [
             0.1111111111111111,
             "#46039f"
            ],
            [
             0.2222222222222222,
             "#7201a8"
            ],
            [
             0.3333333333333333,
             "#9c179e"
            ],
            [
             0.4444444444444444,
             "#bd3786"
            ],
            [
             0.5555555555555556,
             "#d8576b"
            ],
            [
             0.6666666666666666,
             "#ed7953"
            ],
            [
             0.7777777777777778,
             "#fb9f3a"
            ],
            [
             0.8888888888888888,
             "#fdca26"
            ],
            [
             1,
             "#f0f921"
            ]
           ],
           "sequentialminus": [
            [
             0,
             "#0d0887"
            ],
            [
             0.1111111111111111,
             "#46039f"
            ],
            [
             0.2222222222222222,
             "#7201a8"
            ],
            [
             0.3333333333333333,
             "#9c179e"
            ],
            [
             0.4444444444444444,
             "#bd3786"
            ],
            [
             0.5555555555555556,
             "#d8576b"
            ],
            [
             0.6666666666666666,
             "#ed7953"
            ],
            [
             0.7777777777777778,
             "#fb9f3a"
            ],
            [
             0.8888888888888888,
             "#fdca26"
            ],
            [
             1,
             "#f0f921"
            ]
           ]
          },
          "colorway": [
           "#636efa",
           "#EF553B",
           "#00cc96",
           "#ab63fa",
           "#FFA15A",
           "#19d3f3",
           "#FF6692",
           "#B6E880",
           "#FF97FF",
           "#FECB52"
          ],
          "font": {
           "color": "#2a3f5f"
          },
          "geo": {
           "bgcolor": "white",
           "lakecolor": "white",
           "landcolor": "#E5ECF6",
           "showlakes": true,
           "showland": true,
           "subunitcolor": "white"
          },
          "hoverlabel": {
           "align": "left"
          },
          "hovermode": "closest",
          "mapbox": {
           "style": "light"
          },
          "paper_bgcolor": "white",
          "plot_bgcolor": "#E5ECF6",
          "polar": {
           "angularaxis": {
            "gridcolor": "white",
            "linecolor": "white",
            "ticks": ""
           },
           "bgcolor": "#E5ECF6",
           "radialaxis": {
            "gridcolor": "white",
            "linecolor": "white",
            "ticks": ""
           }
          },
          "scene": {
           "xaxis": {
            "backgroundcolor": "#E5ECF6",
            "gridcolor": "white",
            "gridwidth": 2,
            "linecolor": "white",
            "showbackground": true,
            "ticks": "",
            "zerolinecolor": "white"
           },
           "yaxis": {
            "backgroundcolor": "#E5ECF6",
            "gridcolor": "white",
            "gridwidth": 2,
            "linecolor": "white",
            "showbackground": true,
            "ticks": "",
            "zerolinecolor": "white"
           },
           "zaxis": {
            "backgroundcolor": "#E5ECF6",
            "gridcolor": "white",
            "gridwidth": 2,
            "linecolor": "white",
            "showbackground": true,
            "ticks": "",
            "zerolinecolor": "white"
           }
          },
          "shapedefaults": {
           "line": {
            "color": "#2a3f5f"
           }
          },
          "ternary": {
           "aaxis": {
            "gridcolor": "white",
            "linecolor": "white",
            "ticks": ""
           },
           "baxis": {
            "gridcolor": "white",
            "linecolor": "white",
            "ticks": ""
           },
           "bgcolor": "#E5ECF6",
           "caxis": {
            "gridcolor": "white",
            "linecolor": "white",
            "ticks": ""
           }
          },
          "title": {
           "x": 0.05
          },
          "xaxis": {
           "automargin": true,
           "gridcolor": "white",
           "linecolor": "white",
           "ticks": "",
           "title": {
            "standoff": 15
           },
           "zerolinecolor": "white",
           "zerolinewidth": 2
          },
          "yaxis": {
           "automargin": true,
           "gridcolor": "white",
           "linecolor": "white",
           "ticks": "",
           "title": {
            "standoff": 15
           },
           "zerolinecolor": "white",
           "zerolinewidth": 2
          }
         }
        },
        "title": {
         "text": "Scatter Plot 3D"
        }
       }
      }
     },
     "metadata": {},
     "output_type": "display_data"
    }
   ],
   "source": [
    "#Memilih Var \n",
    "x1 = df[\"feb\"]\n",
    "x2 = df[\"mar\"]\n",
    "y = df[\"apr\"]\n",
    "\n",
    "\n",
    "#Membuat dataframe\n",
    "df = pd.DataFrame({\n",
    "    \"x1\": x1,\n",
    "    \"x2\": x2,\n",
    "    \"y\": y\n",
    "})\n",
    "\n",
    "#Analisis regresi berganda\n",
    "x =sm.add_constant(df[[\"x1\", \"x2\"]])\n",
    "model = sm.OLS(df[\"y\"], x).fit()\n",
    "\n",
    "#Mendapatkan koefisien regresi\n",
    "koefisien = model.params\n",
    "\n",
    "#Scatter plot 3D\n",
    "scatter_plot = go.Scatter3d(\n",
    "    x=df[\"x1\"],\n",
    "    y=df[\"x2\"],\n",
    "    z=df[\"y\"], \n",
    "    mode=\"markers\",\n",
    "    marker=dict(\n",
    "        size=5,\n",
    "        color=\"blue\",\n",
    "        opacity=0.8\n",
    "    ),\n",
    "    name=\"Data\"\n",
    ")\n",
    "\n",
    "#Membuat grid untuk permukaan regresi\n",
    "x1_grid, x2_grid = np.meshgrid(np.linspace(1, 50, 10), np.linspace(3, 60, 10))\n",
    "y_pred = koefisien.iloc[0] + koefisien.iloc[1] * x1_grid + koefisien.iloc[2] * x2_grid\n",
    "\n",
    "#Permukaan regresi 3D\n",
    "regresion_surface = go.Surface(\n",
    "    x=x1_grid,\n",
    "    y=x2_grid,\n",
    "    z=y_pred,\n",
    "    colorscale=\"Purples\",\n",
    "    opacity=0.5,\n",
    "    name=\"Garis Regresi\"\n",
    ")\n",
    "\n",
    "#Membuat layout plot\n",
    "layout = go.Layout(\n",
    "    title=\"Scatter Plot 3D\",\n",
    "    scene=dict(\n",
    "        xaxis_title=\"x1\",\n",
    "        yaxis_title=\"x2\",\n",
    "        zaxis_title=\"y\"\n",
    "    ),\n",
    "    showlegend=True \n",
    ")\n",
    "\n",
    "#Membuat figure dengan scatter plot dan permukaan regresi\n",
    "fig = go.Figure(data=[scatter_plot, regresion_surface], layout=layout)\n",
    "\n",
    "#Menampilkan plot\n",
    "fig.show()"
   ]
  }
 ],
 "metadata": {
  "kernelspec": {
   "display_name": "Python 3",
   "language": "python",
   "name": "python3"
  },
  "language_info": {
   "codemirror_mode": {
    "name": "ipython",
    "version": 3
   },
   "file_extension": ".py",
   "mimetype": "text/x-python",
   "name": "python",
   "nbconvert_exporter": "python",
   "pygments_lexer": "ipython3",
   "version": "3.9.9"
  }
 },
 "nbformat": 4,
 "nbformat_minor": 5
}
