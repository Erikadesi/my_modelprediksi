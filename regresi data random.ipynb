{
 "cells": [
  {
   "cell_type": "markdown",
   "id": "273379e6",
   "metadata": {},
   "source": [
    "<div style=\"background: linear-gradient(135deg, #A8D8EA, #F8C8DC); color:#000000; padding:20px; border-radius:25px; font-size:18px; font-style:italic; box-shadow:4px 4px 12px rgba(0,0,0,0.15);\">\n",
    "Nama: Erika Desi Saputri <br>\n",
    "NIM: 240907502025\n",
    "</div>"
   ]
  },
  {
   "cell_type": "markdown",
   "id": "084ad182",
   "metadata": {},
   "source": [
    "<div style=\"color:#6CA6C1; font-size:16px; font-weight:bold; text-align:center;\">\n",
    "Import Library\n",
    "</div>"
   ]
  },
  {
   "cell_type": "code",
   "execution_count": 1,
   "id": "369ade94",
   "metadata": {},
   "outputs": [],
   "source": [
    "import numpy as np\n",
    "import pandas as pd\n",
    "import matplotlib.pyplot as plt\n",
    "import plotly.graph_objects as go\n",
    "import statsmodels.api as sm"
   ]
  },
  {
   "cell_type": "markdown",
   "id": "7ee6df92",
   "metadata": {},
   "source": [
    "<div style=\"color:#6CA6C1; font-size:16px; font-weight:bold; text-align:center;\">\n",
    "Regresi dengan Data Random\n",
    "</div>"
   ]
  },
  {
   "cell_type": "code",
   "execution_count": 2,
   "id": "e58ba931",
   "metadata": {},
   "outputs": [
    {
     "data": {
      "text/html": [
       "<div>\n",
       "<style scoped>\n",
       "    .dataframe tbody tr th:only-of-type {\n",
       "        vertical-align: middle;\n",
       "    }\n",
       "\n",
       "    .dataframe tbody tr th {\n",
       "        vertical-align: top;\n",
       "    }\n",
       "\n",
       "    .dataframe thead th {\n",
       "        text-align: right;\n",
       "    }\n",
       "</style>\n",
       "<table border=\"1\" class=\"dataframe\">\n",
       "  <thead>\n",
       "    <tr style=\"text-align: right;\">\n",
       "      <th></th>\n",
       "      <th>x</th>\n",
       "      <th>y</th>\n",
       "    </tr>\n",
       "  </thead>\n",
       "  <tbody>\n",
       "    <tr>\n",
       "      <th>0</th>\n",
       "      <td>6.182409</td>\n",
       "      <td>11.960728</td>\n",
       "    </tr>\n",
       "    <tr>\n",
       "      <th>1</th>\n",
       "      <td>8.182565</td>\n",
       "      <td>11.703853</td>\n",
       "    </tr>\n",
       "    <tr>\n",
       "      <th>2</th>\n",
       "      <td>2.106059</td>\n",
       "      <td>8.547147</td>\n",
       "    </tr>\n",
       "    <tr>\n",
       "      <th>3</th>\n",
       "      <td>3.227301</td>\n",
       "      <td>9.213566</td>\n",
       "    </tr>\n",
       "    <tr>\n",
       "      <th>4</th>\n",
       "      <td>1.407017</td>\n",
       "      <td>7.730506</td>\n",
       "    </tr>\n",
       "    <tr>\n",
       "      <th>...</th>\n",
       "      <td>...</td>\n",
       "      <td>...</td>\n",
       "    </tr>\n",
       "    <tr>\n",
       "      <th>110</th>\n",
       "      <td>2.318903</td>\n",
       "      <td>8.705187</td>\n",
       "    </tr>\n",
       "    <tr>\n",
       "      <th>111</th>\n",
       "      <td>6.810082</td>\n",
       "      <td>11.919974</td>\n",
       "    </tr>\n",
       "    <tr>\n",
       "      <th>112</th>\n",
       "      <td>9.264601</td>\n",
       "      <td>12.593164</td>\n",
       "    </tr>\n",
       "    <tr>\n",
       "      <th>113</th>\n",
       "      <td>5.554522</td>\n",
       "      <td>10.189789</td>\n",
       "    </tr>\n",
       "    <tr>\n",
       "      <th>114</th>\n",
       "      <td>4.844402</td>\n",
       "      <td>10.620133</td>\n",
       "    </tr>\n",
       "  </tbody>\n",
       "</table>\n",
       "<p>115 rows × 2 columns</p>\n",
       "</div>"
      ],
      "text/plain": [
       "            x          y\n",
       "0    6.182409  11.960728\n",
       "1    8.182565  11.703853\n",
       "2    2.106059   8.547147\n",
       "3    3.227301   9.213566\n",
       "4    1.407017   7.730506\n",
       "..        ...        ...\n",
       "110  2.318903   8.705187\n",
       "111  6.810082  11.919974\n",
       "112  9.264601  12.593164\n",
       "113  5.554522  10.189789\n",
       "114  4.844402  10.620133\n",
       "\n",
       "[115 rows x 2 columns]"
      ]
     },
     "execution_count": 2,
     "metadata": {},
     "output_type": "execute_result"
    }
   ],
   "source": [
    "np.random.seed(8)\n",
    "x = 2 * np.random.randn(115) + 6\n",
    "res = 0.7 * np.random.randn(115)\n",
    "y = 8 + 0.5 * x + res\n",
    "\n",
    "df = pd.DataFrame(\n",
    "    {'x': x,\n",
    "     'y': y}\n",
    ")\n",
    "\n",
    "df"
   ]
  },
  {
   "cell_type": "markdown",
   "id": "9ae90160",
   "metadata": {},
   "source": [
    "<div style=\"color:#6CA6C1; font-size:16px; font-weight:bold; text-align:center;\">\n",
    "Regresi Sederhana\n",
    "</div>"
   ]
  },
  {
   "cell_type": "code",
   "execution_count": 3,
   "id": "fc8adda9",
   "metadata": {},
   "outputs": [
    {
     "name": "stdout",
     "output_type": "stream",
     "text": [
      "alpha = 7.845143948996664\n",
      "beta = 0.5155535788365867\n"
     ]
    },
    {
     "data": {
      "image/png": "[encoded data removed]",
      "text/plain": [
       "<Figure size 1000x500 with 1 Axes>"
      ]
     },
     "metadata": {},
     "output_type": "display_data"
    }
   ],
   "source": [
    "#Hitung mean X dan y\n",
    "xmean = np.mean(x)\n",
    "ymean = np.mean(y)\n",
    "\n",
    "#Hitung covariance dan variance\n",
    "df[\"xycov\"] = (df[\"x\"] - xmean) * (df[\"y\"] - ymean)\n",
    "df[\"xvar\"] = (df[\"x\"] - xmean)**2\n",
    "\n",
    "#Hitung beta and alpha\n",
    "beta = df[\"xycov\"].sum() / df[\"xvar\"].sum()\n",
    "alpha = ymean - (beta*xmean)\n",
    "print(f\"alpha = {alpha}\")\n",
    "print(f\"beta = {beta}\")\n",
    "\n",
    "#Fungsi prediksi\n",
    "ypred = alpha + beta * x     \n",
    "\n",
    "#Plot regresi untuk data aktual\n",
    "plt.figure(figsize=(10, 5))\n",
    "plt.plot(x, ypred)\n",
    "plt.plot(x, y, \"ro\")\n",
    "plt.title(\"Actual vs Predicted\")\n",
    "plt.xlabel(\"x\")\n",
    "plt.ylabel(\"y\")\n",
    "\n",
    "plt.show()"
   ]
  },
  {
   "cell_type": "markdown",
   "id": "9f630918",
   "metadata": {},
   "source": [
    "<div style=\"color:#6CA6C1; font-size:16px; font-weight:bold; text-align:center;\">\n",
    "Regresi dan Plot 3D\n",
    "</div>"
   ]
  },
  {
   "cell_type": "code",
   "execution_count": 4,
   "id": "4656d635",
   "metadata": {},
   "outputs": [
    {
     "data": {
      "application/vnd.plotly.v1+json": {
       "config": {
        "plotlyServerURL": "https://plot.ly"
       },
       "data": [
        {
         "marker": {
          "color": "blue",
          "opacity": 0.8,
          "size": 5
         },
         "mode": "markers",
         "name": "Data",
         "type": "scatter3d",
         "x": {
          "bdata": "OQAAAAUAAAAxAAAAJAAAAD0AAABAAAAALQAAAD4AAAAxAAAAPAAAABUAAAA5AAAAKgAAAAYAAAATAAAAMwAAADkAAAAxAAAANgAAAAYAAAAkAAAAIgAAAA0AAAAQAAAABwAAAB0AAAAKAAAAAQAAAAYAAABGAAAAOgAAAAUAAAAfAAAAHwAAABoAAAAhAAAAIQAAAEAAAAAaAAAANgAAAEMAAAAiAAAACQAAADsAAAAzAAAAGQAAABoAAABBAAAAGgAAADAAAAAoAAAABgAAACwAAAATAAAAKAAAAAUAAAAjAAAAMwAAADoAAAARAAAAAgAAADQAAAA=",
          "dtype": "i4"
         },
         "y": {
          "bdata": "BAAAAB4AAAAkAAAAIwAAACIAAABFAAAATQAAAEYAAAAEAAAARAAAACQAAAA0AAAAJAAAAA4AAAAOAAAAUAAAADoAAAAnAAAATAAAACAAAAAGAAAAKQAAADEAAAAbAAAARAAAACwAAAAEAAAAQAAAABwAAAAmAAAADQAAAEwAAABHAAAAHwAAABMAAAAlAAAALAAAAAMAAAA7AAAAIQAAAAQAAABEAAAAJwAAAEAAAAA4AAAAAwAAAAYAAAAKAAAAIwAAADgAAAANAAAAGgAAAC4AAAAqAAAADwAAACYAAAAiAAAAMwAAABUAAAARAAAABgAAAB0AAAA=",
          "dtype": "i4"
         },
         "z": {
          "bdata": "ao8wUcCpXkABhoY/pjFbQPAiGtvhGmdATpCvEB1qa0C+03SdfGlvQHzlgTFGWXdADAvMq+qOd0AkKwoQ19JzQCngr6nt8ldAXdmfbsvucUCklQgDIq9jQGw+ABIBL3JAFPlqshU5ZkC+K5km8ek4QJKNAPPtQlJACkn81NSZd0BbEA3uOqFyQCuBHEWYi21A8aUr3c2gdUCqE0dkvoVgQF53pPYdW1lApTemUkN8Z0DMwwddEJtpQE5iyDWJ12JAqNb2j6+ZakBO5chO5F9rQOS5CZ2C7y9AsIamEjHCbEDQjX8rE0hjQJtpZlMxRG5Al7ctcxPUY0Cy2lnTElRxQBB1PEXNi3RATgV4xmNCZEDyZ6wmSDZTQM75QBwkIGlAiE9UfeQJZUAPEOA01dBhQM2vM+map29AX5ojHZ/BZkAGXidHUlhgQOAC8CSF1nBAOIjb9ecrYUD1xhf+iYtyQCY53FrJ2XBA4PPfbzYyRkBI11QpSFlWQKiQjMWMGGFAjVjScUljZEDK2+wRb3FwQID3Uv5IqVhAmkP9FBIzWkDIXaEzLgNxQOV/viEC0GJA1m8ZBB2dYEDya4zCMvZlQOhys31ly2VAIQs+UROfcUACHC4z8tNoQFIN8mq0d1pAtqMttLOYPkAG1izCC/xsQA==",
          "dtype": "f8"
         }
        },
        {
         "colorscale": [
          [
           0,
           "rgb(252,251,253)"
          ],
          [
           0.125,
           "rgb(239,237,245)"
          ],
          [
           0.25,
           "rgb(218,218,235)"
          ],
          [
           0.375,
           "rgb(188,189,220)"
          ],
          [
           0.5,
           "rgb(158,154,200)"
          ],
          [
           0.625,
           "rgb(128,125,186)"
          ],
          [
           0.75,
           "rgb(106,81,163)"
          ],
          [
           0.875,
           "rgb(84,39,143)"
          ],
          [
           1,
           "rgb(63,0,125)"
          ]
         ],
         "name": "Garis Regresi",
         "opacity": 0.5,
         "type": "surface",
         "x": {
          "bdata": "AAAAAAAA8D9yHMdxHMcZQHIcx3EcxydAVlVVVVVVMUByHMdxHMc2QI7jOI7jODxAVlVVVVXVQEDkOI7jOI5DQHIcx3EcR0ZAAAAAAAAASUAAAAAAAADwP3Icx3EcxxlAchzHcRzHJ0BWVVVVVVUxQHIcx3EcxzZAjuM4juM4PEBWVVVVVdVAQOQ4juM4jkNAchzHcRxHRkAAAAAAAABJQAAAAAAAAPA/chzHcRzHGUByHMdxHMcnQFZVVVVVVTFAchzHcRzHNkCO4ziO4zg8QFZVVVVV1UBA5DiO4ziOQ0ByHMdxHEdGQAAAAAAAAElAAAAAAAAA8D9yHMdxHMcZQHIcx3EcxydAVlVVVVVVMUByHMdxHMc2QI7jOI7jODxAVlVVVVXVQEDkOI7jOI5DQHIcx3EcR0ZAAAAAAAAASUAAAAAAAADwP3Icx3EcxxlAchzHcRzHJ0BWVVVVVVUxQHIcx3EcxzZAjuM4juM4PEBWVVVVVdVAQOQ4juM4jkNAchzHcRxHRkAAAAAAAABJQAAAAAAAAPA/chzHcRzHGUByHMdxHMcnQFZVVVVVVTFAchzHcRzHNkCO4ziO4zg8QFZVVVVV1UBA5DiO4ziOQ0ByHMdxHEdGQAAAAAAAAElAAAAAAAAA8D9yHMdxHMcZQHIcx3EcxydAVlVVVVVVMUByHMdxHMc2QI7jOI7jODxAVlVVVVXVQEDkOI7jOI5DQHIcx3EcR0ZAAAAAAAAASUAAAAAAAADwP3Icx3EcxxlAchzHcRzHJ0BWVVVVVVUxQHIcx3EcxzZAjuM4juM4PEBWVVVVVdVAQOQ4juM4jkNAchzHcRxHRkAAAAAAAABJQAAAAAAAAPA/chzHcRzHGUByHMdxHMcnQFZVVVVVVTFAchzHcRzHNkCO4ziO4zg8QFZVVVVV1UBA5DiO4ziOQ0ByHMdxHEdGQAAAAAAAAElAAAAAAAAA8D9yHMdxHMcZQHIcx3EcxydAVlVVVVVVMUByHMdxHMc2QI7jOI7jODxAVlVVVVXVQEDkOI7jOI5DQHIcx3EcR0ZAAAAAAAAASUA=",
          "dtype": "f8",
          "shape": "10, 10"
         },
         "y": {
          "bdata": "AAAAAAAACEAAAAAAAAAIQAAAAAAAAAhAAAAAAAAACEAAAAAAAAAIQAAAAAAAAAhAAAAAAAAACEAAAAAAAAAIQAAAAAAAAAhAAAAAAAAACECqqqqqqqoiQKqqqqqqqiJAqqqqqqqqIkCqqqqqqqoiQKqqqqqqqiJAqqqqqqqqIkCqqqqqqqoiQKqqqqqqqiJAqqqqqqqqIkCqqqqqqqoiQFVVVVVVVS9AVVVVVVVVL0BVVVVVVVUvQFVVVVVVVS9AVVVVVVVVL0BVVVVVVVUvQFVVVVVVVS9AVVVVVVVVL0BVVVVVVVUvQFVVVVVVVS9AAAAAAAAANkAAAAAAAAA2QAAAAAAAADZAAAAAAAAANkAAAAAAAAA2QAAAAAAAADZAAAAAAAAANkAAAAAAAAA2QAAAAAAAADZAAAAAAAAANkBVVVVVVVU8QFVVVVVVVTxAVVVVVVVVPEBVVVVVVVU8QFVVVVVVVTxAVVVVVVVVPEBVVVVVVVU8QFVVVVVVVTxAVVVVVVVVPEBVVVVVVVU8QFVVVVVVVUFAVVVVVVVVQUBVVVVVVVVBQFVVVVVVVUFAVVVVVVVVQUBVVVVVVVVBQFVVVVVVVUFAVVVVVVVVQUBVVVVVVVVBQFVVVVVVVUFAAAAAAACAREAAAAAAAIBEQAAAAAAAgERAAAAAAACAREAAAAAAAIBEQAAAAAAAgERAAAAAAACAREAAAAAAAIBEQAAAAAAAgERAAAAAAACARECqqqqqqqpHQKqqqqqqqkdAqqqqqqqqR0CqqqqqqqpHQKqqqqqqqkdAqqqqqqqqR0CqqqqqqqpHQKqqqqqqqkdAqqqqqqqqR0CqqqqqqqpHQFVVVVVV1UpAVVVVVVXVSkBVVVVVVdVKQFVVVVVV1UpAVVVVVVXVSkBVVVVVVdVKQFVVVVVV1UpAVVVVVVXVSkBVVVVVVdVKQFVVVVVV1UpAAAAAAAAATkAAAAAAAABOQAAAAAAAAE5AAAAAAAAATkAAAAAAAABOQAAAAAAAAE5AAAAAAAAATkAAAAAAAABOQAAAAAAAAE5AAAAAAAAATkA=",
          "dtype": "f8",
          "shape": "10, 10"
         },
         "z": {
          "bdata": "RdzeJ9oeMkBN9otbrG47QCqInEc/X0JALxVzYSgHR0Ayokl7Ea9LQJsXkEp9K1BAHl5713F/UkCgpGZkZtNUQCLrUfFaJ1dApDE9fk97WUBWprSkyqxDQFozi76zVEhAXsBh2Jz8TECxJhz5QtJQQDNtB4Y3JlNAtbPyEix6VUA3+t2fIM5XQLlAySwVIlpAO4e0uQl2XEC9zZ9G/sleQIreeTUoSk5AxzWopwh5UUBJfJM0/cxTQMzCfsHxIFZATQlqTuZ0WEDPT1Xb2shaQFKWQGjPHF1A1Nwr9cNwX0CrkQtBXOJgQOw0gYdWDGJAYIsf48JzVEDi0Qpwt8dWQGQY9vyrG1lA5l7hiaBvW0BopcwWlcNdQPX129HEC2BANplRGL81YUB3PMdeuV9iQLjfPKWziWNA+YKy662zZEB6J4KrccJZQPxtbThmFlxAfrRYxVpqXkCA/SGpJ19gQMGgl+8hiWFAAkQNNhyzYkBD54J8Ft1jQISK+MIQB2VAxS1uCQsxZkAG0eNPBVtnQJTD5HMgEV9ACwVogIqyYEBMqN3GhNxhQI1LUw1/BmNAzu7IU3kwZEAPkj6ac1plQFA1tOBthGZAkdgpJ2iuZ0DSe59tYthoQBMfFbRcAmpA168jnucvYkAYU5nk4VljQFn2Divcg2RAmpmEcdatZUDbPPq30NdmQBzgb/7KAWhAXYPlRMUraUCeJluLv1VqQN/J0NG5f2tAIG1GGLSpbEDk/VQCP9dkQCWhykg5AWZAZkRAjzMrZ0Cn57XVLVVoQOiKKxwof2lAKS6hYiKpakBq0RapHNNrQKt0jO8W/WxA7BcCNhEnbkAtu3d8C1FvQPFLhmaWfmdAMu/7rJCoaEBzknHzitJpQLQ15zmF/GpA9dhcgH8mbEA2fNLGeVBtQHcfSA10em5AuMK9U26kb0D8shlNNGdwQJ2EVHAx/HBA/pm3yu0lakA/PS0R6E9rQIDgolfieWxAwYMYntyjbUACJ47k1s1uQEPKAyvR929Awra8uOWQcEBiiPfb4iVxQANaMv/funFApCttIt1PckA=",
          "dtype": "f8",
          "shape": "10, 10"
         }
        }
       ],
       "layout": {
        "scene": {
         "xaxis": {
          "title": {
           "text": "x1"
          }
         },
         "yaxis": {
          "title": {
           "text": "x2"
          }
         },
         "zaxis": {
          "title": {
           "text": "y"
          }
         }
        },
        "showlegend": true,
        "template": {
         "data": {
          "bar": [
           {
            "error_x": {
             "color": "#2a3f5f"
            },
            "error_y": {
             "color": "#2a3f5f"
            },
            "marker": {
             "line": {
              "color": "#E5ECF6",
              "width": 0.5
             },
             "pattern": {
              "fillmode": "overlay",
              "size": 10,
              "solidity": 0.2
             }
            },
            "type": "bar"
           }
          ],
          "barpolar": [
           {
            "marker": {
             "line": {
              "color": "#E5ECF6",
              "width": 0.5
             },
             "pattern": {
              "fillmode": "overlay",
              "size": 10,
              "solidity": 0.2
             }
            },
            "type": "barpolar"
           }
          ],
          "carpet": [
           {
            "aaxis": {
             "endlinecolor": "#2a3f5f",
             "gridcolor": "white",
             "linecolor": "white",
             "minorgridcolor": "white",
             "startlinecolor": "#2a3f5f"
            },
            "baxis": {
             "endlinecolor": "#2a3f5f",
             "gridcolor": "white",
             "linecolor": "white",
             "minorgridcolor": "white",
             "startlinecolor": "#2a3f5f"
            },
            "type": "carpet"
           }
          ],
          "choropleth": [
           {
            "colorbar": {
             "outlinewidth": 0,
             "ticks": ""
            },
            "type": "choropleth"
           }
          ],
          "contour": [
           {
            "colorbar": {
             "outlinewidth": 0,
             "ticks": ""
            },
            "colorscale": [
             [
              0,
              "#0d0887"
             ],
             [
              0.1111111111111111,
              "#46039f"
             ],
             [
              0.2222222222222222,
              "#7201a8"
             ],
             [
              0.3333333333333333,
              "#9c179e"
             ],
             [
              0.4444444444444444,
              "#bd3786"
             ],
             [
              0.5555555555555556,
              "#d8576b"
             ],
             [
              0.6666666666666666,
              "#ed7953"
             ],
             [
              0.7777777777777778,
              "#fb9f3a"
             ],
             [
              0.8888888888888888,
              "#fdca26"
             ],
             [
              1,
              "#f0f921"
             ]
            ],
            "type": "contour"
           }
          ],
          "contourcarpet": [
           {
            "colorbar": {
             "outlinewidth": 0,
             "ticks": ""
            },
            "type": "contourcarpet"
           }
          ],
          "heatmap": [
           {
            "colorbar": {
             "outlinewidth": 0,
             "ticks": ""
            },
            "colorscale": [
             [
              0,
              "#0d0887"
             ],
             [
              0.1111111111111111,
              "#46039f"
             ],
             [
              0.2222222222222222,
              "#7201a8"
             ],
             [
              0.3333333333333333,
              "#9c179e"
             ],
             [
              0.4444444444444444,
              "#bd3786"
             ],
             [
              0.5555555555555556,
              "#d8576b"
             ],
             [
              0.6666666666666666,
              "#ed7953"
             ],
             [
              0.7777777777777778,
              "#fb9f3a"
             ],
             [
              0.8888888888888888,
              "#fdca26"
             ],
             [
              1,
              "#f0f921"
             ]
            ],
            "type": "heatmap"
           }
          ],
          "histogram": [
           {
            "marker": {
             "pattern": {
              "fillmode": "overlay",
              "size": 10,
              "solidity": 0.2
             }
            },
            "type": "histogram"
           }
          ],
          "histogram2d": [
           {
            "colorbar": {
             "outlinewidth": 0,
             "ticks": ""
            },
            "colorscale": [
             [
              0,
              "#0d0887"
             ],
             [
              0.1111111111111111,
              "#46039f"
             ],
             [
              0.2222222222222222,
              "#7201a8"
             ],
             [
              0.3333333333333333,
              "#9c179e"
             ],
             [
              0.4444444444444444,
              "#bd3786"
             ],
             [
              0.5555555555555556,
              "#d8576b"
             ],
             [
              0.6666666666666666,
              "#ed7953"
             ],
             [
              0.7777777777777778,
              "#fb9f3a"
             ],
             [
              0.8888888888888888,
              "#fdca26"
             ],
             [
              1,
              "#f0f921"
             ]
            ],
            "type": "histogram2d"
           }
          ],
          "histogram2dcontour": [
           {
            "colorbar": {
             "outlinewidth": 0,
             "ticks": ""
            },
            "colorscale": [
             [
              0,
              "#0d0887"
             ],
             [
              0.1111111111111111,
              "#46039f"
             ],
             [
              0.2222222222222222,
              "#7201a8"
             ],
             [
              0.3333333333333333,
              "#9c179e"
             ],
             [
              0.4444444444444444,
              "#bd3786"
             ],
             [
              0.5555555555555556,
              "#d8576b"
             ],
             [
              0.6666666666666666,
              "#ed7953"
             ],
             [
              0.7777777777777778,
              "#fb9f3a"
             ],
             [
              0.8888888888888888,
              "#fdca26"
             ],
             [
              1,
              "#f0f921"
             ]
            ],
            "type": "histogram2dcontour"
           }
          ],
          "mesh3d": [
           {
            "colorbar": {
             "outlinewidth": 0,
             "ticks": ""
            },
            "type": "mesh3d"
           }
          ],
          "parcoords": [
           {
            "line": {
             "colorbar": {
              "outlinewidth": 0,
              "ticks": ""
             }
            },
            "type": "parcoords"
           }
          ],
          "pie": [
           {
            "automargin": true,
            "type": "pie"
           }
          ],
          "scatter": [
           {
            "fillpattern": {
             "fillmode": "overlay",
             "size": 10,
             "solidity": 0.2
            },
            "type": "scatter"
           }
          ],
          "scatter3d": [
           {
            "line": {
             "colorbar": {
              "outlinewidth": 0,
              "ticks": ""
             }
            },
            "marker": {
             "colorbar": {
              "outlinewidth": 0,
              "ticks": ""
             }
            },
            "type": "scatter3d"
           }
          ],
          "scattercarpet": [
           {
            "marker": {
             "colorbar": {
              "outlinewidth": 0,
              "ticks": ""
             }
            },
            "type": "scattercarpet"
           }
          ],
          "scattergeo": [
           {
            "marker": {
             "colorbar": {
              "outlinewidth": 0,
              "ticks": ""
             }
            },
            "type": "scattergeo"
           }
          ],
          "scattergl": [
           {
            "marker": {
             "colorbar": {
              "outlinewidth": 0,
              "ticks": ""
             }
            },
            "type": "scattergl"
           }
          ],
          "scattermap": [
           {
            "marker": {
             "colorbar": {
              "outlinewidth": 0,
              "ticks": ""
             }
            },
            "type": "scattermap"
           }
          ],
          "scattermapbox": [
           {
            "marker": {
             "colorbar": {
              "outlinewidth": 0,
              "ticks": ""
             }
            },
            "type": "scattermapbox"
           }
          ],
          "scatterpolar": [
           {
            "marker": {
             "colorbar": {
              "outlinewidth": 0,
              "ticks": ""
             }
            },
            "type": "scatterpolar"
           }
          ],
          "scatterpolargl": [
           {
            "marker": {
             "colorbar": {
              "outlinewidth": 0,
              "ticks": ""
             }
            },
            "type": "scatterpolargl"
           }
          ],
          "scatterternary": [
           {
            "marker": {
             "colorbar": {
              "outlinewidth": 0,
              "ticks": ""
             }
            },
            "type": "scatterternary"
           }
          ],
          "surface": [
           {
            "colorbar": {
             "outlinewidth": 0,
             "ticks": ""
            },
            "colorscale": [
             [
              0,
              "#0d0887"
             ],
             [
              0.1111111111111111,
              "#46039f"
             ],
             [
              0.2222222222222222,
              "#7201a8"
             ],
             [
              0.3333333333333333,
              "#9c179e"
             ],
             [
              0.4444444444444444,
              "#bd3786"
             ],
             [
              0.5555555555555556,
              "#d8576b"
             ],
             [
              0.6666666666666666,
              "#ed7953"
             ],
             [
              0.7777777777777778,
              "#fb9f3a"
             ],
             [
              0.8888888888888888,
              "#fdca26"
             ],
             [
              1,
              "#f0f921"
             ]
            ],
            "type": "surface"
           }
          ],
          "table": [
           {
            "cells": {
             "fill": {
              "color": "#EBF0F8"
             },
             "line": {
              "color": "white"
             }
            },
            "header": {
             "fill": {
              "color": "#C8D4E3"
             },
             "line": {
              "color": "white"
             }
            },
            "type": "table"
           }
          ]
         },
         "layout": {
          "annotationdefaults": {
           "arrowcolor": "#2a3f5f",
           "arrowhead": 0,
           "arrowwidth": 1
          },
          "autotypenumbers": "strict",
          "coloraxis": {
           "colorbar": {
            "outlinewidth": 0,
            "ticks": ""
           }
          },
          "colorscale": {
           "diverging": [
            [
             0,
             "#8e0152"
            ],
            [
             0.1,
             "#c51b7d"
            ],
            [
             0.2,
             "#de77ae"
            ],
            [
             0.3,
             "#f1b6da"
            ],
            [
             0.4,
             "#fde0ef"
            ],
            [
             0.5,
             "#f7f7f7"
            ],
            [
             0.6,
             "#e6f5d0"
            ],
            [
             0.7,
             "#b8e186"
            ],
            [
             0.8,
             "#7fbc41"
            ],
            [
             0.9,
             "#4d9221"
            ],
            [
             1,
             "#276419"
            ]
           ],
           "sequential": [
            [
             0,
             "#0d0887"
            ],
            [
             0.1111111111111111,
             "#46039f"
            ],
            [
             0.2222222222222222,
             "#7201a8"
            ],
            [
             0.3333333333333333,
             "#9c179e"
            ],
            [
             0.4444444444444444,
             "#bd3786"
            ],
            [
             0.5555555555555556,
             "#d8576b"
            ],
            [
             0.6666666666666666,
             "#ed7953"
            ],
            [
             0.7777777777777778,
             "#fb9f3a"
            ],
            [
             0.8888888888888888,
             "#fdca26"
            ],
            [
             1,
             "#f0f921"
            ]
           ],
           "sequentialminus": [
            [
             0,
             "#0d0887"
            ],
            [
             0.1111111111111111,
             "#46039f"
            ],
            [
             0.2222222222222222,
             "#7201a8"
            ],
            [
             0.3333333333333333,
             "#9c179e"
            ],
            [
             0.4444444444444444,
             "#bd3786"
            ],
            [
             0.5555555555555556,
             "#d8576b"
            ],
            [
             0.6666666666666666,
             "#ed7953"
            ],
            [
             0.7777777777777778,
             "#fb9f3a"
            ],
            [
             0.8888888888888888,
             "#fdca26"
            ],
            [
             1,
             "#f0f921"
            ]
           ]
          },
          "colorway": [
           "#636efa",
           "#EF553B",
           "#00cc96",
           "#ab63fa",
           "#FFA15A",
           "#19d3f3",
           "#FF6692",
           "#B6E880",
           "#FF97FF",
           "#FECB52"
          ],
          "font": {
           "color": "#2a3f5f"
          },
          "geo": {
           "bgcolor": "white",
           "lakecolor": "white",
           "landcolor": "#E5ECF6",
           "showlakes": true,
           "showland": true,
           "subunitcolor": "white"
          },
          "hoverlabel": {
           "align": "left"
          },
          "hovermode": "closest",
          "mapbox": {
           "style": "light"
          },
          "paper_bgcolor": "white",
          "plot_bgcolor": "#E5ECF6",
          "polar": {
           "angularaxis": {
            "gridcolor": "white",
            "linecolor": "white",
            "ticks": ""
           },
           "bgcolor": "#E5ECF6",
           "radialaxis": {
            "gridcolor": "white",
            "linecolor": "white",
            "ticks": ""
           }
          },
          "scene": {
           "xaxis": {
            "backgroundcolor": "#E5ECF6",
            "gridcolor": "white",
            "gridwidth": 2,
            "linecolor": "white",
            "showbackground": true,
            "ticks": "",
            "zerolinecolor": "white"
           },
           "yaxis": {
            "backgroundcolor": "#E5ECF6",
            "gridcolor": "white",
            "gridwidth": 2,
            "linecolor": "white",
            "showbackground": true,
            "ticks": "",
            "zerolinecolor": "white"
           },
           "zaxis": {
            "backgroundcolor": "#E5ECF6",
            "gridcolor": "white",
            "gridwidth": 2,
            "linecolor": "white",
            "showbackground": true,
            "ticks": "",
            "zerolinecolor": "white"
           }
          },
          "shapedefaults": {
           "line": {
            "color": "#2a3f5f"
           }
          },
          "ternary": {
           "aaxis": {
            "gridcolor": "white",
            "linecolor": "white",
            "ticks": ""
           },
           "baxis": {
            "gridcolor": "white",
            "linecolor": "white",
            "ticks": ""
           },
           "bgcolor": "#E5ECF6",
           "caxis": {
            "gridcolor": "white",
            "linecolor": "white",
            "ticks": ""
           }
          },
          "title": {
           "x": 0.05
          },
          "xaxis": {
           "automargin": true,
           "gridcolor": "white",
           "linecolor": "white",
           "ticks": "",
           "title": {
            "standoff": 15
           },
           "zerolinecolor": "white",
           "zerolinewidth": 2
          },
          "yaxis": {
           "automargin": true,
           "gridcolor": "white",
           "linecolor": "white",
           "ticks": "",
           "title": {
            "standoff": 15
           },
           "zerolinecolor": "white",
           "zerolinewidth": 2
          }
         }
        },
        "title": {
         "text": "Scatter Plot 3D dengan Garis Regresi Berganda"
        }
       }
      }
     },
     "metadata": {},
     "output_type": "display_data"
    }
   ],
   "source": [
    "#Mengahasilkan data acak\n",
    "np.random.seed(21)\n",
    "x1 = np.random.randint(1, 71, 62)\n",
    "x2 = np.random.randint(3, 81, 62)\n",
    "y = 10 + 2 * x1 + 3 * x2 + np.random.normal(0, 25, 62)\n",
    "\n",
    "#Membuat dataframe\n",
    "df = pd.DataFrame({\n",
    "    \"x1\": x1,\n",
    "    \"x2\": x2,\n",
    "    \"y\": y\n",
    "})\n",
    "\n",
    "#Analisis regresi berganda\n",
    "x =sm.add_constant(df[[\"x1\", \"x2\"]])\n",
    "model = sm.OLS(df[\"y\"], x).fit()\n",
    "\n",
    "#Mendapatkan koefisien regresi\n",
    "koefisien = model.params\n",
    "\n",
    "#Scatter plot 3D\n",
    "scatter_plot = go.Scatter3d(\n",
    "    x=df[\"x1\"],\n",
    "    y=df[\"x2\"],\n",
    "    z=df[\"y\"], \n",
    "    mode=\"markers\",\n",
    "    marker=dict(\n",
    "        size=5,\n",
    "        color=\"blue\",\n",
    "        opacity=0.8\n",
    "    ),\n",
    "    name=\"Data\"\n",
    ")\n",
    "\n",
    "#Membuat grid untuk permukaan regresi\n",
    "x1_grid, x2_grid = np.meshgrid(np.linspace(1, 50, 10), np.linspace(3, 60, 10))\n",
    "y_pred = koefisien.iloc[0] + koefisien.iloc[1] * x1_grid + koefisien.iloc[2] * x2_grid\n",
    "\n",
    "#Permukaan regresi 3D\n",
    "regresion_surface = go.Surface(\n",
    "    x=x1_grid,\n",
    "    y=x2_grid,\n",
    "    z=y_pred,\n",
    "    colorscale=\"Purples\",\n",
    "    opacity=0.5,\n",
    "    name=\"Garis Regresi\"\n",
    ")\n",
    "\n",
    "#Membuat layout plot\n",
    "layout = go.Layout(\n",
    "    title=\"Scatter Plot 3D dengan Garis Regresi Berganda\",\n",
    "    scene=dict(\n",
    "        xaxis_title=\"x1\",\n",
    "        yaxis_title=\"x2\",\n",
    "        zaxis_title=\"y\"\n",
    "    ),\n",
    "    showlegend=True \n",
    ")\n",
    "\n",
    "#Membuat figure dengan scatter plot dan permukaan regresi\n",
    "fig = go.Figure(data=[scatter_plot, regresion_surface], layout=layout)\n",
    "\n",
    "#Menampilkan plot\n",
    "fig.show()"
   ]
  }
 ],
 "metadata": {
  "kernelspec": {
   "display_name": "Python 3",
   "language": "python",
   "name": "python3"
  },
  "language_info": {
   "codemirror_mode": {
    "name": "ipython",
    "version": 3
   },
   "file_extension": ".py",
   "mimetype": "text/x-python",
   "name": "python",
   "nbconvert_exporter": "python",
   "pygments_lexer": "ipython3",
   "version": "3.9.9"
  }
 },
 "nbformat": 4,
 "nbformat_minor": 5
}
